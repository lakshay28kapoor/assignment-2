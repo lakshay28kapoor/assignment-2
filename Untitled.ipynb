{
 "cells": [
  {
   "cell_type": "markdown",
   "id": "4a590881-22fc-4c15-a22c-7b8b4a1ce412",
   "metadata": {},
   "source": [
    "Discuss string slicing provide sith examples.\n",
    "String slicing is a technique in Python that allows you to extract a portion (or \"slice\") of a string. This is done by specifying a range of indices. The basic syntax for string slicing is:\n",
    "\n",
    "```python\n",
    "string[start:end:step]\n",
    "```\n",
    "\n",
    "- `start` (optional): The starting index (inclusive). Defaults to 0 if omitted.\n",
    "- `end` (optional): The ending index (exclusive). Defaults to the length of the string if omitted.\n",
    "- `step` (optional): How many characters to skip. Defaults to 1 if omitted.\n",
    "\n",
    "### Examples:\n",
    "\n",
    "1. **Basic Slicing:**\n",
    "\n",
    "```python\n",
    "text = \"Hello, World!\"\n",
    "print(text[0:5])  # Output: 'Hello'\n",
    "```\n",
    "Explanation: This extracts the characters from index `0` to `4` (since the end index is exclusive).\n",
    "\n",
    "2. **Omitting Start or End:**\n",
    "\n",
    "```python\n",
    "text = \"Python Programming\"\n",
    "print(text[:6])   # Output: 'Python'\n",
    "print(text[7:])   # Output: 'Programming'\n",
    "```\n",
    "Explanation: \n",
    "- `[:6]` means slice from the start to index `5`.\n",
    "- `[7:]` means slice from index `7` to the end.\n",
    "\n",
    "3. **Negative Indexing:**\n",
    "Negative indices start from the end of the string.\n",
    "\n",
    "```python\n",
    "text = \"Python\"\n",
    "print(text[-6:-2])  # Output: 'Pyth'\n",
    "```\n",
    "Explanation: Negative indexing starts at `-1` (the last character), so `-6` corresponds to the first character (`P`), and `-2` corresponds to the second last character (`h`).\n",
    "\n",
    "4. **Using Step:**\n",
    "\n",
    "```python\n",
    "text = \"abcdefg\"\n",
    "print(text[::2])  # Output: 'aceg'\n",
    "```\n",
    "Explanation: The `step` of `2` skips every second character.\n",
    "\n",
    "5. **Reversing a String:**\n",
    "\n",
    "```python\n",
    "text = \"abcdefg\"\n",
    "print(text[::-1])  # Output: 'gfedcba'\n",
    "```"
   ]
  }
 ],
 "metadata": {
  "kernelspec": {
   "display_name": "Python 3 (ipykernel)",
   "language": "python",
   "name": "python3"
  },
  "language_info": {
   "codemirror_mode": {
    "name": "ipython",
    "version": 3
   },
   "file_extension": ".py",
   "mimetype": "text/x-python",
   "name": "python",
   "nbconvert_exporter": "python",
   "pygments_lexer": "ipython3",
   "version": "3.10.8"
  }
 },
 "nbformat": 4,
 "nbformat_minor": 5
}
